{
 "cells": [
  {
   "cell_type": "code",
   "execution_count": 1,
   "id": "7ff08530",
   "metadata": {},
   "outputs": [],
   "source": [
    "import pandas as pd\n",
    "import re"
   ]
  },
  {
   "cell_type": "code",
   "execution_count": 2,
   "id": "f7e1dcd8",
   "metadata": {},
   "outputs": [],
   "source": [
    "# Danh sách kỹ năng phổ biến (có thể mở rộng thêm)\n",
    "SKILL_KEYWORDS = [\n",
    "    \"excel\", \"sql\", \"power bi\", \"photoshop\", \"canva\", \"google ads\", \"facebook ads\",\n",
    "    \"crm\", \"content marketing\", \"seo\", \"python\", \"java\", \"tableau\", \"adobe creative suite\",\n",
    "    \"presentation\", \"leadership\", \"communication\", \"project management\", \"autocad\", \"solidworks\",\n",
    "    \"revit\", \"ms project\", \"hris\", \"recruitment\", \"negotiation\", \"public speaking\",\n",
    "    \"data visualization\", \"financial modeling\", \"budgeting\", \"forecasting\", \"risk management\",\n",
    "    \"logistics\", \"supply chain\", \"inventory management\", \"customer service\", \"sales\", \"marketing\",\n",
    "    \"training\", \"coaching\", \"teaching\", \"legal research\", \"compliance\", \"qa\", \"qc\", \"lean manufacturing\",\n",
    "    \"5s\", \"safety management\", \"vendor management\", \"event planning\", \"office management\",\n",
    "    \"administrative support\", \"presentation skills\", \"storytelling\", \"motion graphics\", \"video editing\",\n",
    "    \"after effects\", \"premiere pro\", \"indesign\", \"illustrator\", \"figma\", \"branding\", \"typography\"\n",
    "]"
   ]
  },
  {
   "cell_type": "code",
   "execution_count": 3,
   "id": "2cd43f93",
   "metadata": {},
   "outputs": [],
   "source": [
    "# Đọc dữ liệu\n",
    "df = pd.read_csv('jobs_data.csv')\n"
   ]
  },
  {
   "cell_type": "code",
   "execution_count": null,
   "id": "0a84fd52",
   "metadata": {},
   "outputs": [],
   "source": [
    "def clean_text(text):\n",
    "    \"\"\"Tiền xử lý văn bản: chuyển về chữ thường, loại bỏ ký tự đặc biệt.\"\"\"\n",
    "    text = str(text).lower() #chuyển text về chữ thường (so từ khóa không bị sai với chữ hoa/ thường)\n",
    "    text = re.sub(r'[^\\w\\s]', ' ', text) #loại bỏ ktđb, giữ lại chữ, số, space \n",
    "    return text\n",
    "\n",
    "def extract_skills(text, skill_keywords):\n",
    "    \"\"\"Tìm các kỹ năng xuất hiện trong văn bản.\"\"\"\n",
    "    text = clean_text(text) #nhận 1 chuỗi text\n",
    "    found = [] \n",
    "    for skill in skill_keywords: #duyệt từng skill trong csv\n",
    "        # Tìm kỹ năng theo từ/cụm từ (dùng regex để tránh trùng lặp từ)\n",
    "        if re.search(r'\\b' + re.escape(skill) + r'\\b', text):\n",
    "            found.append(skill) #if thấy skill thì append vào found\n",
    "    return found"
   ]
  },
  {
   "cell_type": "code",
   "execution_count": 5,
   "id": "c5400ade",
   "metadata": {},
   "outputs": [
    {
     "name": "stdout",
     "output_type": "stream",
     "text": [
      "                             job_title  \\\n",
      "0                  Marketing Executive   \n",
      "1                        Sales Manager   \n",
      "2         Digital Marketing Specialist   \n",
      "3  Business Development Representative   \n",
      "4            Content Marketing Manager   \n",
      "\n",
      "                                    extracted_skills  \n",
      "0  [marketing, photoshop, content marketing, seo,...  \n",
      "1                                       [sales, crm]  \n",
      "2                         [facebook ads, google ads]  \n",
      "3                            [sales, marketing, crm]  \n",
      "4             [adobe creative suite, seo, marketing]  \n"
     ]
    }
   ],
   "source": [
    "# Trích xuất kỹ năng từ cột 'skills' và 'job_description'\n",
    "df['extracted_skills'] = df.apply(\n",
    "    lambda row: list(set(\n",
    "        extract_skills(row['skills'], SKILL_KEYWORDS) +\n",
    "        extract_skills(row['job_description'], SKILL_KEYWORDS)\n",
    "    )),\n",
    "    axis=1\n",
    ")\n",
    "\n",
    "# Xem kết quả mẫu\n",
    "print(df[['job_title', 'extracted_skills']].head())"
   ]
  },
  {
   "cell_type": "code",
   "execution_count": 7,
   "id": "ecc0d9f0",
   "metadata": {},
   "outputs": [],
   "source": [
    "# Lưu ra file mới\n",
    "df.to_csv('skill_jobs.csv', index=False)"
   ]
  }
 ],
 "metadata": {
  "kernelspec": {
   "display_name": "Python 3",
   "language": "python",
   "name": "python3"
  },
  "language_info": {
   "codemirror_mode": {
    "name": "ipython",
    "version": 3
   },
   "file_extension": ".py",
   "mimetype": "text/x-python",
   "name": "python",
   "nbconvert_exporter": "python",
   "pygments_lexer": "ipython3",
   "version": "3.12.5"
  }
 },
 "nbformat": 4,
 "nbformat_minor": 5
}
